{
 "cells": [
  {
   "cell_type": "code",
   "execution_count": 20,
   "metadata": {
    "collapsed": false
   },
   "outputs": [
    {
     "name": "stdout",
     "output_type": "stream",
     "text": [
      "Method randomSay.RunningTime = 0.005545854568481445s\n"
     ]
    }
   ],
   "source": [
    "import time\n",
    "import functools\n",
    "\n",
    "\n",
    "def calcTime(func):\n",
    "    @functools.wraps(func)\n",
    "    def wrapper(*args, **kwargs):\n",
    "        tic = time.time()\n",
    "        func(*args, **kwargs)\n",
    "        toc = time.time()\n",
    "        print(\"Method {0}.RunningTime = {1}s\".format(func.__name__, (toc - tic)))\n",
    "    return wrapper\n",
    "\n",
    "@calcTime\n",
    "def randomSay():\n",
    "    for i in range(100000):\n",
    "        pass\n",
    "randomSay()"
   ]
  },
  {
   "cell_type": "markdown",
   "metadata": {},
   "source": [
    "## format函数使用\n",
    "```\n",
    "str.format(*args, **kwargs)\n",
    "```"
   ]
  },
  {
   "cell_type": "code",
   "execution_count": 42,
   "metadata": {
    "collapsed": false
   },
   "outputs": [
    {
     "name": "stdout",
     "output_type": "stream",
     "text": [
      "00003\n",
      "==============================================================================3\n",
      "3******************************************************************************\n",
      "&&&&&&&&&&&&&&&&&&&&&&&&&&&&&&&&&&&&&&&3&&&&&&&&&&&&&&&&&&&&&&&&&&&&&&&&&&&&&&&\n",
      "hi, jack\n"
     ]
    }
   ],
   "source": [
    "print('{:05d}'.format(3))\n",
    "print('{:=>79d}'.format(3))\n",
    "print('{:*<79d}'.format(3))\n",
    "print('{:&^79d}'.format(3))\n",
    "print('hi, {name}'.format(name=\"jack\"))"
   ]
  },
  {
   "cell_type": "code",
   "execution_count": 44,
   "metadata": {
    "collapsed": false
   },
   "outputs": [
    {
     "name": "stdout",
     "output_type": "stream",
     "text": [
      "data repr, data str\n"
     ]
    }
   ],
   "source": [
    "class Data(object):\n",
    "    def __str__(self):\n",
    "        return \"data str\"\n",
    "    def __repr__(self):\n",
    "        return \"data repr\"\n",
    "print(\"{0!r}, {0!s}\".format(Data(), Data()))"
   ]
  },
  {
   "cell_type": "code",
   "execution_count": 47,
   "metadata": {
    "collapsed": false
   },
   "outputs": [
    {
     "name": "stdout",
     "output_type": "stream",
     "text": [
      "Hodor Hodor!\n"
     ]
    }
   ],
   "source": [
    "data = {'first': 'Hodor', 'last': 'Hodor!'}\n",
    "print('{first} {last}'.format(**data))"
   ]
  },
  {
   "cell_type": "code",
   "execution_count": null,
   "metadata": {
    "collapsed": true
   },
   "outputs": [],
   "source": []
  }
 ],
 "metadata": {
  "kernelspec": {
   "display_name": "Python 3",
   "language": "python",
   "name": "python3"
  },
  "language_info": {
   "codemirror_mode": {
    "name": "ipython",
    "version": 3
   },
   "file_extension": ".py",
   "mimetype": "text/x-python",
   "name": "python",
   "nbconvert_exporter": "python",
   "pygments_lexer": "ipython3",
   "version": "3.6.0"
  }
 },
 "nbformat": 4,
 "nbformat_minor": 2
}
