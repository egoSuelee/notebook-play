{
 "cells": [
  {
   "cell_type": "markdown",
   "metadata": {},
   "source": [
    "### 线性代数基础"
   ]
  },
  {
   "cell_type": "markdown",
   "metadata": {},
   "source": [
    "#### Scalars(标量), Vectors(向量), Matrices(矩阵) and Tensors(张量)\n",
    "\n",
    "*  <b>Scalars</b>: A scalar is just a single number, in contrast to most of the other objects studied in linear algebra, which are usually arrays of multiple numbers.We write scalars in italics. We usually give scalars lowercase variable names.When we introduce them, we specify what kind of number they are. For29\n",
    "   CHAPTER 2. LINEAR ALGEBRA example, we might say “Let s ∈ R be the slope of the line,” while deﬁning areal-valued scalar, or “Let n ∈ N be the number of units,” while deﬁning anatural number scalar.\n",
    "   * 标量: 和大多数其他科学相反, 在线代中, 一个标量就单单代表一个数字, 她既不是一个数组也不带有其他的结构; \n",
    "* <b>Vectors</b>: A vector is an array of numbers. The numbers are arranged in order. We can identify each individual number by its index in that ordering.Typically we give vectors lowercase names in bold typeface, such asx. Theelements of the vector are identiﬁed by writing its name in italic typeface,with a subscript. The ﬁrst element ofxisx1, the second element isx2, andso on. We also need to say what kind of numbers are stored in the vector. Ifeach element is inR, and the vector hasnelements, then the vector lies inthe set formed by taking the Cartesian product ofR ntimes, denoted asRn.When we need to explicitly identify the elements of a vector, we write themas a column enclosed in square brackets:\n",
    "    * 向量: 一个向量就是一个数组, 数组有序排列; 我们可以通过索引, 来获取对应的值;\n",
    "    ```\n",
    "    import numpy as np\n",
    "    a = np.random.rand(1, 5)\n",
    "    ```\n",
    "* <b>Matrices</b>:  Matrices: A matrix is a 2-D array of numbers, so each element is identiﬁedby two indices instead of just one.\n",
    "    * 矩阵: 一个矩阵就是一个2维数字组合, 所以每一个元素我们可以同个两个索引值(对应的行列)来找到对应的值\n",
    "    \n",
    "* <b>Tensors</b>: In some cases we will need an array with more than two axes.In the general case, an array of numbers arranged on a regular grid with avariable number of axes is known as a tensor. We denote a tensor named “A” with this type face:A. We identify the element of A at coordinates (i, j, k)by writing Ai,j,k.\n",
    "    * 张量: 在某些情况下,我们一个需要的不仅仅是两个方向的数组; 在通常情况下, 布置在具有可变轴数的规则网格上的数字阵列被称为张量;我们用这种类型的表示一个名为“A”的张量：A。 我们通过写入Ai，j，k来识别坐标（i，j，k）处的A的元素。\n"
   ]
  },
  {
   "cell_type": "markdown",
   "metadata": {},
   "source": [
    "One important operation on matrices is thetranspose. The transpose of amatrix is the mirror image of the matrix across a diagonal line, called themaindiagonal, running down and to the right, starting from its upper left corner. Seeﬁgure 2.1 for a graphical depiction of this operation. We denote the transpose of amatrix A as $A^T$ and it is deﬁned such that;<br>\n",
    "矩阵的一个重要操作是处理。 阿姆斯特里克的转置是跨越对角线的矩阵的镜像，称为对角线，从左上角开始向右下移动。\n",
    "\n",
    "$$A_{i,j} = A_{j,i}^T $$\n"
   ]
  },
  {
   "cell_type": "code",
   "execution_count": 22,
   "metadata": {
    "collapsed": false
   },
   "outputs": [
    {
     "name": "stdout",
     "output_type": "stream",
     "text": [
      "[[0 1 2 3]\n",
      " [4 5 6 7]]\n",
      "======================================================================\n",
      "[[0 4]\n",
      " [1 5]\n",
      " [2 6]\n",
      " [3 7]]\n",
      "======================================================================\n",
      "[[ 14  38]\n",
      " [ 38 126]]\n",
      "======================================================================\n"
     ]
    }
   ],
   "source": [
    "spline = lambda : print(\"=\"*70)\n",
    "\n",
    "import numpy as np\n",
    "\n",
    "x = np.arange(8).reshape(2,4)\n",
    "print(matrix)\n",
    "spline()\n",
    "xT = matrix.T\n",
    "print(matrix_T)\n",
    "spline()\n",
    "sum = np.dot(x, xT)\n",
    "print(sum)\n",
    "spline()"
   ]
  },
  {
   "cell_type": "code",
   "execution_count": 34,
   "metadata": {
    "collapsed": false
   },
   "outputs": [
    {
     "name": "stdout",
     "output_type": "stream",
     "text": [
      "[4 5 6 7]\n"
     ]
    },
    {
     "data": {
      "text/plain": [
       "38"
      ]
     },
     "execution_count": 34,
     "metadata": {},
     "output_type": "execute_result"
    }
   ],
   "source": [
    "a = np.arange(4)\n",
    "\n",
    "b = np.arange(4, 8)\n",
    "print(b)\n",
    "np.dot(a, b)\n"
   ]
  },
  {
   "cell_type": "markdown",
   "metadata": {},
   "source": [
    "\n",
    "$$\n",
    "C_{i,j} = \\sum\\limits_{k=1}A_{i,k}B_{k,j}\n",
    "$$\n",
    "$$\n",
    "A(B + C) = AB + AC.\n",
    "$$\n"
   ]
  },
  {
   "cell_type": "code",
   "execution_count": 50,
   "metadata": {
    "collapsed": false
   },
   "outputs": [
    {
     "name": "stdout",
     "output_type": "stream",
     "text": [
      "======================================================================\n",
      "[[ 2.48865238  1.78969825  1.47758898]\n",
      " [ 1.0045247   0.49750194  0.59189771]\n",
      " [ 1.45619703  0.66809565  0.84150039]]\n",
      "======================================================================\n",
      "[[ 2.48865238  1.78969825  1.47758898]\n",
      " [ 1.0045247   0.49750194  0.59189771]\n",
      " [ 1.45619703  0.66809565  0.84150039]]\n",
      "======================================================================\n",
      "[[ 6.19339067  3.20301981  2.18326919]\n",
      " [ 1.00906988  0.24750818  0.3503429 ]\n",
      " [ 2.1205098   0.4463518   0.7081229 ]]\n",
      "======================================================================\n",
      "[[ 10.14284746   6.33148591   5.97991532]\n",
      " [  3.86158547   2.44074856   2.27682704]\n",
      " [  5.52047717   3.50073491   3.25522787]]\n",
      "======================================================================\n",
      "[[ 10.14284746   6.33148591   5.97991532]\n",
      " [  3.86158547   2.44074856   2.27682704]\n",
      " [  5.52047717   3.50073491   3.25522787]]\n"
     ]
    }
   ],
   "source": [
    "# test\n",
    "a = np.random.rand(3, 3)\n",
    "b = np.random.rand(3, 3)\n",
    "c = np.random.rand(3, 3)\n",
    "spline()\n",
    "d = b+c\n",
    "p = np.dot(a,d)\n",
    "print(p)\n",
    "spline()\n",
    "e, f = np.dot(a, b), np.dot(a, c)\n",
    "q = e+f\n",
    "print(q)\n",
    "spline()\n",
    "xy = p * q\n",
    "yx = np.dot(p, q)\n",
    "print(xy)\n",
    "spline()\n",
    "print(yx)\n",
    "z = np.dot(q, p)\n",
    "spline()\n",
    "print(z)"
   ]
  },
  {
   "cell_type": "code",
   "execution_count": 72,
   "metadata": {
    "collapsed": false
   },
   "outputs": [
    {
     "name": "stdout",
     "output_type": "stream",
     "text": [
      "[[1 1]\n",
      " [1 1]]\n"
     ]
    }
   ],
   "source": [
    "a = np.repeat(1,4).reshape(2, 2)\n",
    "print(a)\n",
    "# a1 = np.linalg.eigvals(a)\n",
    "# a1\n",
    "# print(a1)\n",
    "# spline()\n",
    "# t = np.dot(a, a1)\n",
    "# print(t)\n",
    "# spline()\n",
    "\n",
    "# ### a2 为矩阵a的特征值, a3为矩阵a的特征向量\n",
    "# a2, a3 = np.linalg.eig(a)\n",
    "# print(a2)\n",
    "# spline()\n",
    "# print(a3)\n",
    "\n",
    "#### 逆矩阵 ---并不是所有的矩阵都有逆矩阵\n",
    "\n",
    "# inverse_a = np.linalg.inv(a)\n",
    "# spline()\n",
    "# product = np.dot(a, a.T)\n",
    "# print(np.linalg.inv(product))\n",
    "\n"
   ]
  },
  {
   "cell_type": "code",
   "execution_count": 82,
   "metadata": {
    "collapsed": false
   },
   "outputs": [
    {
     "name": "stdout",
     "output_type": "stream",
     "text": [
      "22.2261107709\n"
     ]
    }
   ],
   "source": [
    "A = np.matrix([[1, 2, 3, 4],\n",
    "              [5, 5, 6, 8],\n",
    "              [7, 9, 9, 1],\n",
    "              [4, 6, 7, 1]])\n",
    "# product = np.dot(a,a)\n",
    "# print(product)\n",
    "# spline()\n",
    "#### A的逆矩阵\n",
    "# inverseA = A.I\n",
    "# print(inverseA)\n",
    "# ### A的单元矩阵 所谓的单元矩阵就是 该矩阵乘以单元矩阵还是该矩阵\n",
    "# identiyA = np.dot(inverseA, A)\n",
    "# print(identiyA)\n",
    "\n",
    "# ji = np.dot(identiyA, A)\n",
    "# spline()\n",
    "# print(ji)\n",
    "# i = np.linalg.det(A)\n",
    "# spline()\n",
    "# print(i)\n",
    "\n",
    "norm = np.linalg.norm(A)\n",
    "print(norm)"
   ]
  },
  {
   "cell_type": "code",
   "execution_count": null,
   "metadata": {
    "collapsed": true
   },
   "outputs": [],
   "source": []
  },
  {
   "cell_type": "code",
   "execution_count": null,
   "metadata": {
    "collapsed": true
   },
   "outputs": [],
   "source": []
  },
  {
   "cell_type": "code",
   "execution_count": null,
   "metadata": {
    "collapsed": true
   },
   "outputs": [],
   "source": []
  },
  {
   "cell_type": "code",
   "execution_count": null,
   "metadata": {
    "collapsed": true
   },
   "outputs": [],
   "source": []
  },
  {
   "cell_type": "code",
   "execution_count": null,
   "metadata": {
    "collapsed": true
   },
   "outputs": [],
   "source": []
  },
  {
   "cell_type": "code",
   "execution_count": null,
   "metadata": {
    "collapsed": true
   },
   "outputs": [],
   "source": []
  },
  {
   "cell_type": "code",
   "execution_count": null,
   "metadata": {
    "collapsed": true
   },
   "outputs": [],
   "source": []
  },
  {
   "cell_type": "code",
   "execution_count": null,
   "metadata": {
    "collapsed": true
   },
   "outputs": [],
   "source": []
  }
 ],
 "metadata": {
  "kernelspec": {
   "display_name": "Python 3",
   "language": "python",
   "name": "python3"
  },
  "language_info": {
   "codemirror_mode": {
    "name": "ipython",
    "version": 3
   },
   "file_extension": ".py",
   "mimetype": "text/x-python",
   "name": "python",
   "nbconvert_exporter": "python",
   "pygments_lexer": "ipython3",
   "version": "3.6.0"
  }
 },
 "nbformat": 4,
 "nbformat_minor": 2
}
