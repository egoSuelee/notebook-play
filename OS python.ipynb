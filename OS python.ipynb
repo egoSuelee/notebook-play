{
 "cells": [
  {
   "cell_type": "code",
   "execution_count": 3,
   "metadata": {},
   "outputs": [
    {
     "name": "stdout",
     "output_type": "stream",
     "text": [
      "posix\n",
      "posix.uname_result(sysname='Darwin', nodename='bogon', release='16.7.0', version='Darwin Kernel Version 16.7.0: Thu Jun 15 17:36:27 PDT 2017; root:xnu-3789.70.16~2/RELEASE_X86_64', machine='x86_64')\n"
     ]
    }
   ],
   "source": [
    "import os\n",
    "print(os.name)\n",
    "print(os.uname())"
   ]
  },
  {
   "cell_type": "code",
   "execution_count": 4,
   "metadata": {},
   "outputs": [
    {
     "name": "stdout",
     "output_type": "stream",
     "text": [
      "environ({'rvm_bin_path': '/Users/xwy_brh/.rvm/bin', 'TERM_PROGRAM': 'Apple_Terminal', 'GEM_HOME': '/Users/xwy_brh/.rvm/gems/ruby-2.4.0', 'SHELL': '/bin/bash', 'TERM': 'xterm-color', 'HOMEBREW_BOTTLE_DOMAIN': 'https://mirrors.ustc.edu.cn/homebrew-bottles', 'IRBRC': '/Users/xwy_brh/.rvm/rubies/ruby-2.4.0/.irbrc', 'TMPDIR': '/var/folders/np/6n69w86n5rqbb42zfzn5z1qc0000gn/T/', 'Apple_PubSub_Socket_Render': '/private/tmp/com.apple.launchd.i9fIfcSTPl/Render', 'TERM_PROGRAM_VERSION': '388.1.1', 'MY_RUBY_HOME': '/Users/xwy_brh/.rvm/rubies/ruby-2.4.0', 'TERM_SESSION_ID': 'A6C720D6-F35A-490B-9DD6-79E24F3CD92C', 'rvm_stored_umask': '0022', 'USER': 'xwy_brh', '_system_type': 'Darwin', 'rvm_path': '/Users/xwy_brh/.rvm', 'SSH_AUTH_SOCK': '/private/tmp/com.apple.launchd.ClAeuCZQrz/Listeners', '__CF_USER_TEXT_ENCODING': '0x1F5:0x19:0x34', 'rvm_prefix': '/Users/xwy_brh', 'PATH': '/anaconda/bin:/anaconda/bin:/Users/xwy_brh/.rvm/gems/ruby-2.4.0/bin:/Users/xwy_brh/.rvm/gems/ruby-2.4.0@global/bin:/Users/xwy_brh/.rvm/rubies/ruby-2.4.0/bin:/usr/local/bin:/usr/bin:/bin:/usr/sbin:/sbin:/usr/local/apache-maven-3.5.0/bin:/Users/xwy_brh/.rvm/bin:/Users/xwy_brh/.rvm/bin', 'rvm_loaded_flag': '1', 'PWD': '/Users/xwy_brh', 'LANG': 'zh_CN.UTF-8', '_system_arch': 'x86_64', 'XPC_FLAGS': '0x0', '_system_version': '10.12', 'XPC_SERVICE_NAME': '0', 'rvm_version': '1.29.1 (latest)', 'M2_HOME': '/usr/local/apache-maven-3.5.0', 'SHLVL': '1', 'HOME': '/Users/xwy_brh', 'LOGNAME': 'xwy_brh', 'GEM_PATH': '/Users/xwy_brh/.rvm/gems/ruby-2.4.0:/Users/xwy_brh/.rvm/gems/ruby-2.4.0@global', 'RUBY_VERSION': 'ruby-2.4.0', 'rvm_user_install_flag': '1', '_system_name': 'OSX', '_': '/anaconda/bin/jupyter', 'JPY_PARENT_PID': '676', 'CLICOLOR': '1', 'PAGER': 'cat', 'GIT_PAGER': 'cat', 'MPLBACKEND': 'module://ipykernel.pylab.backend_inline'})\n"
     ]
    }
   ],
   "source": [
    "print(os.environ)"
   ]
  },
  {
   "cell_type": "code",
   "execution_count": 5,
   "metadata": {},
   "outputs": [
    {
     "data": {
      "text/plain": [
       "'/anaconda/bin:/anaconda/bin:/Users/xwy_brh/.rvm/gems/ruby-2.4.0/bin:/Users/xwy_brh/.rvm/gems/ruby-2.4.0@global/bin:/Users/xwy_brh/.rvm/rubies/ruby-2.4.0/bin:/usr/local/bin:/usr/bin:/bin:/usr/sbin:/sbin:/usr/local/apache-maven-3.5.0/bin:/Users/xwy_brh/.rvm/bin:/Users/xwy_brh/.rvm/bin'"
      ]
     },
     "execution_count": 5,
     "metadata": {},
     "output_type": "execute_result"
    }
   ],
   "source": [
    "os.environ.get('PATH')"
   ]
  },
  {
   "cell_type": "code",
   "execution_count": 16,
   "metadata": {},
   "outputs": [
    {
     "name": "stdout",
     "output_type": "stream",
     "text": [
      "286f3e6ff649fd8ad5dd273baf4a5053\n",
      "32\n"
     ]
    }
   ],
   "source": [
    "import hashlib\n",
    "md5str = hashlib.md5()\n",
    "result = md5str.update(\"egosuelee\".encode('utf-8'))\n",
    "print(md5str.hexdigest())\n",
    "md5 = hashlib.md5()\n",
    "md5.update('how to use md5 in python hashlib?'.encode('utf-8'))\n",
    "r = md5.hexdigest()\n",
    "print(len(r))"
   ]
  },
  {
   "cell_type": "code",
   "execution_count": null,
   "metadata": {
    "collapsed": true
   },
   "outputs": [],
   "source": []
  }
 ],
 "metadata": {
  "kernelspec": {
   "display_name": "Python 3",
   "language": "python",
   "name": "python3"
  },
  "language_info": {
   "codemirror_mode": {
    "name": "ipython",
    "version": 3
   },
   "file_extension": ".py",
   "mimetype": "text/x-python",
   "name": "python",
   "nbconvert_exporter": "python",
   "pygments_lexer": "ipython3",
   "version": "3.6.0"
  }
 },
 "nbformat": 4,
 "nbformat_minor": 2
}
