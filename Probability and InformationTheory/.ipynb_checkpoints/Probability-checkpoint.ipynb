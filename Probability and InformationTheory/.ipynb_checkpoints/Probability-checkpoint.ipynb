{
 "cells": [
  {
   "cell_type": "markdown",
   "metadata": {},
   "source": [
    "### Probability 概率论\n",
    "<b>描述一种不确定</b>\n",
    "In artiﬁcial intelligence applications, we use probability theory in two major ways. First, the laws of probability tell us how AI systems should reason, so we design our algorithms to compute or approximatevarious expressions derived using probability theory. Second, we can use probability and statistics to theoretically analyze the behavior of proposed AI systems.<br>\n",
    "#### 在人工智能的应用领域中, 我们使用概率论主要用在以下两个方面;\n",
    "* 概率定律告诉我们AI系统应该如何推理，所以我们设计算法来计算或近似使用概率论导出的各种表达式。\n",
    "* 我们可以用概率统计理论分析所提出的AI系统的行为。"
   ]
  },
  {
   "cell_type": "code",
   "execution_count": null,
   "metadata": {
    "collapsed": true
   },
   "outputs": [],
   "source": []
  }
 ],
 "metadata": {
  "kernelspec": {
   "display_name": "Python 3",
   "language": "python",
   "name": "python3"
  },
  "language_info": {
   "codemirror_mode": {
    "name": "ipython",
    "version": 3
   },
   "file_extension": ".py",
   "mimetype": "text/x-python",
   "name": "python",
   "nbconvert_exporter": "python",
   "pygments_lexer": "ipython3",
   "version": "3.6.0"
  }
 },
 "nbformat": 4,
 "nbformat_minor": 2
}
