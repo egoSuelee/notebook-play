{
 "cells": [
  {
   "cell_type": "code",
   "execution_count": 5,
   "metadata": {},
   "outputs": [],
   "source": [
    "#!/usr/bin/env python3\n",
    "# # -*- coding: utf-8 -*-\n",
    "\n",
    "# class Dict(dict):\n",
    "\n",
    "#     def __init__(self, **kw):\n",
    "#         super().__init__(**kw)\n",
    "\n",
    "#     def __getattr__(self, key):\n",
    "#         try:\n",
    "#             return self[key]\n",
    "#         except KeyError:\n",
    "#             raise AttributeError(r\"'Dict' object has no attribute '%s'\" % key)\n",
    "\n",
    "#     def __setattr__(self, key, value):\n",
    "#         self[key] = value\n",
    "\n",
    "        \n",
    "# import unittest\n",
    "\n",
    "\n",
    "# class TestDict(unittest.TestCase):\n",
    "\n",
    "#     def test_init(self):\n",
    "#         d = Dict(a=1, b='test')\n",
    "#         self.assertEqual(d.a, 1)\n",
    "#         self.assertEqual(d.b, 'test')\n",
    "#         self.assertTrue(isinstance(d, dict))\n",
    "\n",
    "#     def test_key(self):\n",
    "#         d = Dict()\n",
    "#         d['key'] = 'value'\n",
    "#         self.assertEqual(d.key, 'value')\n",
    "\n",
    "#     def test_attr(self):\n",
    "#         d = Dict()\n",
    "#         d.key = 'value'\n",
    "#         self.assertTrue('key' in d)\n",
    "#         self.assertEqual(d['key'], 'value')\n",
    "\n",
    "#     def test_keyerror(self):\n",
    "#         d = Dict()\n",
    "#         with self.assertRaises(KeyError):\n",
    "#             value = d['empty']\n",
    "\n",
    "#     def test_attrerror(self):\n",
    "#         d = Dict()\n",
    "#         with self.assertRaises(AttributeError):\n",
    "#             value = d.empty\n",
    "\n",
    "# if __name__ == '__main__':\n",
    "#     unittest.main()"
   ]
  },
  {
   "cell_type": "code",
   "execution_count": 88,
   "metadata": {},
   "outputs": [
    {
     "name": "stdout",
     "output_type": "stream",
     "text": [
      "[9, 16, 25, 36, 49, 64, 81]\n",
      "[9, 16, 25, 36, 49, 64, 81]\n",
      "<built-in method __dir__ of zip object at 0x102d56388>\n",
      "(9, 9, 9)\n",
      "(16, 16, 16)\n",
      "(25, 25, 25)\n",
      "(36, 36, 36)\n",
      "(49, 49, 49)\n",
      "(64, 64, 64)\n",
      "(81, 81, 81)\n",
      "finished.\n",
      "<class 'int'> is not an iterator\n"
     ]
    }
   ],
   "source": [
    "import numpy as np\n",
    "# x = np.repeat(np.random.randint(12), 12)\n",
    "# print(x)\n",
    "# print(type(x))\n",
    "# help(np.random)\n",
    "\n",
    "x = [x*x for x in range(3, 10, 1)]\n",
    "y = [x*x for x in range(3, 10, 1)]\n",
    "print(x)\n",
    "print(y)\n",
    "z = zip(x, y, y)\n",
    "# print(type(z))\n",
    "# print(z)\n",
    "# # help(zip)\n",
    "# s = z.__reduce__()\n",
    "# # n = z.__next__()\n",
    "# lz = list(z)\n",
    "# print(lz)\n",
    "# # print(n)\n",
    "\n",
    "# while(next(z)):\n",
    "#     print(next(z))\n",
    "print(z.__dir__)\n",
    "# while True:\n",
    "#     try:\n",
    "#         i = next(z)\n",
    "#         print(i)\n",
    "#     except StopIteration as e:\n",
    "#         print(\"ego--{0}\".format(e.value))\n",
    "#         break\n",
    "\n",
    "def loop_print(io):\n",
    "    while True:\n",
    "        try:\n",
    "            i = next(io)\n",
    "            print(i)\n",
    "        except StopIteration as se:\n",
    "            print(\"finished.\")\n",
    "            break\n",
    "        except TypeError as te:\n",
    "            print(\"{0} is not an iterator\".format(type(io)))\n",
    "            break\n",
    "loop_print(z)\n",
    "i  = 1\n",
    "loop_print(i)"
   ]
  },
  {
   "cell_type": "code",
   "execution_count": 10,
   "metadata": {},
   "outputs": [
    {
     "name": "stdout",
     "output_type": "stream",
     "text": [
      "[0, 1, 2, 3, 4, 5, 6, 7, 8, 9]\n"
     ]
    }
   ],
   "source": [
    "L = [x for x in range(10)]\n",
    "print(L)"
   ]
  },
  {
   "cell_type": "code",
   "execution_count": null,
   "metadata": {
    "collapsed": true
   },
   "outputs": [],
   "source": []
  }
 ],
 "metadata": {
  "kernelspec": {
   "display_name": "Python 3",
   "language": "python",
   "name": "python3"
  },
  "language_info": {
   "codemirror_mode": {
    "name": "ipython",
    "version": 3
   },
   "file_extension": ".py",
   "mimetype": "text/x-python",
   "name": "python",
   "nbconvert_exporter": "python",
   "pygments_lexer": "ipython3",
   "version": "3.6.0"
  }
 },
 "nbformat": 4,
 "nbformat_minor": 2
}
