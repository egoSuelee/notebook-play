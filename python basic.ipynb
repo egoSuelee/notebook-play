{
 "cells": [
  {
   "cell_type": "code",
   "execution_count": 20,
   "metadata": {},
   "outputs": [
    {
     "name": "stdout",
     "output_type": "stream",
     "text": [
      "Method randomSay.RunningTime = 0.005545854568481445s\n"
     ]
    }
   ],
   "source": [
    "import time\n",
    "import functools\n",
    "\n",
    "\n",
    "def calcTime(func):\n",
    "    @functools.wraps(func)\n",
    "    def wrapper(*args, **kwargs):\n",
    "        tic = time.time()\n",
    "        func(*args, **kwargs)\n",
    "        toc = time.time()\n",
    "        print(\"Method {0}.RunningTime = {1}s\".format(func.__name__, (toc - tic)))\n",
    "    return wrapper\n",
    "\n",
    "@calcTime\n",
    "def randomSay():\n",
    "    for i in range(100000):\n",
    "        pass\n",
    "randomSay()"
   ]
  },
  {
   "cell_type": "markdown",
   "metadata": {},
   "source": [
    "## format函数使用\n",
    "```\n",
    "str.format(*args, **kwargs)\n",
    "```\n",
    "[pyFormat](http://www.pyformat.info)"
   ]
  },
  {
   "cell_type": "code",
   "execution_count": 42,
   "metadata": {},
   "outputs": [
    {
     "name": "stdout",
     "output_type": "stream",
     "text": [
      "00003\n",
      "==============================================================================3\n",
      "3******************************************************************************\n",
      "&&&&&&&&&&&&&&&&&&&&&&&&&&&&&&&&&&&&&&&3&&&&&&&&&&&&&&&&&&&&&&&&&&&&&&&&&&&&&&&\n",
      "hi, jack\n"
     ]
    }
   ],
   "source": [
    "print('{:05d}'.format(3))\n",
    "print('{:=>79d}'.format(3))\n",
    "print('{:*<79d}'.format(3))\n",
    "print('{:&^79d}'.format(3))\n",
    "print('hi, {name}'.format(name=\"jack\"))"
   ]
  },
  {
   "cell_type": "code",
   "execution_count": 44,
   "metadata": {},
   "outputs": [
    {
     "name": "stdout",
     "output_type": "stream",
     "text": [
      "data repr, data str\n"
     ]
    }
   ],
   "source": [
    "class Data(object):\n",
    "    def __str__(self):\n",
    "        return \"data str\"\n",
    "    def __repr__(self):\n",
    "        return \"data repr\"\n",
    "print(\"{0!r}, {0!s}\".format(Data(), Data()))"
   ]
  },
  {
   "cell_type": "code",
   "execution_count": 47,
   "metadata": {},
   "outputs": [
    {
     "name": "stdout",
     "output_type": "stream",
     "text": [
      "Hodor Hodor!\n"
     ]
    }
   ],
   "source": [
    "data = {'first': 'Hodor', 'last': 'Hodor!'}\n",
    "print('{first} {last}'.format(**data))"
   ]
  },
  {
   "cell_type": "markdown",
   "metadata": {
    "collapsed": true
   },
   "source": [
    "### staticmethod & classmethod & normal method\n",
    "* ***@classmethod***\n",
    "<br> 是一个函数修饰符，它表示接下来的是一个类方法，而对于平常我们见到的则叫做实例方法。 类方法的第一个参数cls，而实例方法的第一个参数是self，表示该类的一个实例。 \n",
    "* ***@staticmethod***\n",
    "<br>\n",
    "    静态方法则没有，它基本上跟一个全局函数相同; 静态方法中, 既没有cls代表类, 也没有self代理类实例;\n",
    "* ***正常的实例方法***\n",
    "<br>\n",
    "   普通对象方法至少需要一个self参数，代表类对象实例\n",
    "   \n",
    " <span style=''>用@classmethod修改的方法, 可以被类实例调用, 而正常的方法, 不能被类调用; \n",
    "***"
   ]
  },
  {
   "cell_type": "code",
   "execution_count": 25,
   "metadata": {},
   "outputs": [
    {
     "name": "stdout",
     "output_type": "stream",
     "text": [
      "=============================================使用类实例调用示例==============================================\n",
      "class method, ego,<class '__main__.Worker'>\n",
      "static method, Rose\n",
      "Normal method, Suelee, <__main__.Worker object at 0x10c2afd30>\n",
      "==============================================使用类调用示例===============================================\n",
      "class method, ego,<class '__main__.Worker'>\n",
      "static method, Suelee\n"
     ]
    },
    {
     "ename": "TypeError",
     "evalue": "normal() missing 1 required positional argument: 'name'",
     "output_type": "error",
     "traceback": [
      "\u001b[0;31m---------------------------------------------------------------------------\u001b[0m",
      "\u001b[0;31mTypeError\u001b[0m                                 Traceback (most recent call last)",
      "\u001b[0;32m<ipython-input-25-73e16e4def36>\u001b[0m in \u001b[0;36m<module>\u001b[0;34m()\u001b[0m\n\u001b[1;32m     17\u001b[0m \u001b[0mWorker\u001b[0m\u001b[0;34m.\u001b[0m\u001b[0mclm\u001b[0m\u001b[0;34m(\u001b[0m\u001b[0;34m\"ego\"\u001b[0m\u001b[0;34m)\u001b[0m\u001b[0;34m\u001b[0m\u001b[0m\n\u001b[1;32m     18\u001b[0m \u001b[0mWorker\u001b[0m\u001b[0;34m.\u001b[0m\u001b[0msm\u001b[0m\u001b[0;34m(\u001b[0m\u001b[0;34m\"Suelee\"\u001b[0m\u001b[0;34m)\u001b[0m\u001b[0;34m\u001b[0m\u001b[0m\n\u001b[0;32m---> 19\u001b[0;31m \u001b[0mWorker\u001b[0m\u001b[0;34m.\u001b[0m\u001b[0mnormal\u001b[0m\u001b[0;34m(\u001b[0m\u001b[0;34m\"Rose\"\u001b[0m\u001b[0;34m)\u001b[0m\u001b[0;34m\u001b[0m\u001b[0m\n\u001b[0m",
      "\u001b[0;31mTypeError\u001b[0m: normal() missing 1 required positional argument: 'name'"
     ]
    }
   ],
   "source": [
    "class Worker(object):\n",
    "    @classmethod\n",
    "    def clm(cls, name):\n",
    "        print(\"class method, {0},{1}\".format(name, cls))\n",
    "    @staticmethod\n",
    "    def sm(name):\n",
    "        print(\"static method, {0}\".format(name))\n",
    "    def normal(self, name):\n",
    "        print(\"Normal method, {0}, {1}\".format(name, self))\n",
    "\n",
    "xwy = Worker()\n",
    "print('{:=^100s}'.format(\"使用类实例调用示例\"))\n",
    "xwy.clm(\"ego\")\n",
    "xwy.sm(\"Rose\")\n",
    "xwy.normal('Suelee')\n",
    "print('{:=^100s}'.format(\"使用类调用示例\"))\n",
    "Worker.clm(\"ego\")\n",
    "Worker.sm(\"Suelee\")\n",
    "Worker.normal(\"Rose\")"
   ]
  },
  {
   "cell_type": "code",
   "execution_count": null,
   "metadata": {
    "collapsed": true
   },
   "outputs": [],
   "source": []
  }
 ],
 "metadata": {
  "kernelspec": {
   "display_name": "Python 3",
   "language": "python",
   "name": "python3"
  },
  "language_info": {
   "codemirror_mode": {
    "name": "ipython",
    "version": 3
   },
   "file_extension": ".py",
   "mimetype": "text/x-python",
   "name": "python",
   "nbconvert_exporter": "python",
   "pygments_lexer": "ipython3",
   "version": "3.6.0"
  }
 },
 "nbformat": 4,
 "nbformat_minor": 2
}
